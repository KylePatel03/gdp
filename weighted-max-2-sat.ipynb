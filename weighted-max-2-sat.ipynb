{
 "cells": [
  {
   "cell_type": "code",
   "execution_count": 1,
   "metadata": {},
   "outputs": [],
   "source": [
    "import re\n",
    "import numpy as np\n",
    "from collections import Counter"
   ]
  },
  {
   "cell_type": "markdown",
   "metadata": {},
   "source": [
    "PBIL Algorithm to solve weighted-Max-2-SAT problems\n",
    "\n",
    "Boolean formula is assumed to be in Conjunctive Normal Form (CNF) over variables $x_1,x_2, \\ldots x_N$\n",
    "\n",
    "CNF $ (x_1 \\vee \\neg x_1) \\wedge (x_2 \\vee x_3) \\wedge (\\neg x_2 \\vee x_4) $ is represented as the string \"1!123!24\" which is obtained by concatenating the variable $x_i$ as $i$ in left to right order, using \"!\" to represent negation"
   ]
  },
  {
   "cell_type": "code",
   "execution_count": 2,
   "metadata": {},
   "outputs": [],
   "source": [
    "def get_clauses(formula):\n",
    "    return re.findall(r'!?\\d!?\\d',formula)\n",
    "\n",
    "def number_variables(formula):\n",
    "    return len(set(re.findall(r'\\d',formula)))\n",
    "\n",
    "# Evaluate a clause where each literal is a 0 or a 1\n",
    "def evaluate_clause(clause):\n",
    "    is_negated = False\n",
    "    result = False\n",
    "    for x in clause:\n",
    "        if x == '!':\n",
    "            is_negated = True\n",
    "            continue\n",
    "        x = bool(int(x))\n",
    "        if is_negated:\n",
    "            result = result or not(x)\n",
    "            is_negated = False\n",
    "        else:\n",
    "            result = result or x\n",
    "    return result"
   ]
  },
  {
   "cell_type": "code",
   "execution_count": 3,
   "metadata": {},
   "outputs": [],
   "source": [
    "# Sample probability distribution\n",
    "# solution[i]: The value of variable i+1\n",
    "def sample(P):\n",
    "    n = P.size\n",
    "    solution = np.empty(n,dtype=int)\n",
    "    for i in range(n):\n",
    "        solution[i] = np.random.choice([0,1],size=None,p=[1-P[i],P[i]])\n",
    "    return solution\n",
    "\n",
    "# Compute the empirical probabilities (probability of each variable being a 1 over the samples)\n",
    "def empirical_probabilities(samples):\n",
    "    # Number of variables\n",
    "    n = samples[0].size\n",
    "    p = np.empty(n)\n",
    "    N = len(samples)\n",
    "    for i in range(n):\n",
    "        values_i = [sample[i] for sample in samples]\n",
    "        count = Counter(values_i)\n",
    "        p[i] = count[1] / N\n",
    "    return p\n",
    "\n",
    "def update(alpha, P, empirical_probabilities):\n",
    "    return alpha * P + (1-alpha) * empirical_probabilities\n",
    "\n",
    "# Returns whether the distribution is valid (probabilities are between 0 and 1)\n",
    "def check_P(P):\n",
    "    return not(np.any(model.P < 0)) and not(np.any(model.P > 1))\n",
    "\n",
    "# Evaluate the fitness: sum of the weights of the clauses that are satisfied\n",
    "# weights: The weights corresponding to each clause\n",
    "def fitness(formula, solution, weights):\n",
    "    clauses = get_clauses(formula)\n",
    "    fitness = 0\n",
    "    for clause, weight in zip(clauses, weights):\n",
    "        # Substitute variables with its value stored in solution\n",
    "        clause = re.sub(r'\\d', lambda m: _sub(solution,m), clause)\n",
    "        if evaluate_clause(clause):\n",
    "            fitness += weight\n",
    "    return fitness\n",
    "\n",
    "def _sub(solution,match):\n",
    "    i = int(match.group(0)) - 1\n",
    "    return str(solution[i])"
   ]
  },
  {
   "cell_type": "code",
   "execution_count": 4,
   "metadata": {},
   "outputs": [],
   "source": [
    "class Model:\n",
    "    def __init__(self, formula, weights):\n",
    "        self.formula = formula\n",
    "        self.weights = weights\n",
    "        self.clauses = get_clauses(formula)\n",
    "        self.N = number_variables(formula)\n",
    "        # Each entry is the probability of a variable taking value 1\n",
    "        self.P = np.full(self.N, 0.5)\n",
    "        self.P0 = self.P.copy()\n",
    "    \n",
    "# N: Number of iterations\n",
    "# Q: Population Size\n",
    "# Q1: Sample Size (Number of fit samples used to update probabilities)\n",
    "#alpha: Learning rate between 0 and 1\n",
    "def  main(model, N, Q, Q1, alpha):\n",
    "    for n in range(N):\n",
    "        # Generate samples from the current distribution\n",
    "        samples = [sample(model.P) for _ in range(Q)]\n",
    "        samples.sort(key=lambda x: fitness(formula,x, model.weights), reverse=True)\n",
    "        # Use the fittest samples to update distribution\n",
    "        samples = samples[:Q1]\n",
    "        empirical_p = empirical_probabilities(samples)\n",
    "        model.P = update(alpha, model.P, empirical_p)"
   ]
  },
  {
   "cell_type": "code",
   "execution_count": 5,
   "metadata": {},
   "outputs": [],
   "source": [
    "# (x1+x2)(x1+!x2)(!x1+x2)(!x1+!x2)\n",
    "# Not satisfiable: Can only make 3 clauses satisfiable\n",
    "\n",
    "formula = '121!2!12!1!2'\n",
    "weights = [1,2,1,1]\n",
    "\n",
    "model = Model(formula, weights)\n",
    "\n",
    "N = 200\n",
    "Q = 100\n",
    "Q1 = 20\n",
    "alpha = 0.7\n",
    "\n",
    "main(model,N,Q,Q1,alpha)"
   ]
  },
  {
   "cell_type": "code",
   "execution_count": 14,
   "metadata": {},
   "outputs": [
    {
     "data": {
      "text/plain": [
       "(array([1.00000000e+00, 6.76508174e-11]), array([1, 0]), 4)"
      ]
     },
     "execution_count": 14,
     "metadata": {},
     "output_type": "execute_result"
    }
   ],
   "source": [
    "sol = sample(model.P)\n",
    "model.P, sol, fitness(model.formula, sol, model.weights)"
   ]
  }
 ],
 "metadata": {
  "interpreter": {
   "hash": "5fc57f0eeeae6d9fbfccdd8c53b36a3fb85963eb035039bddb19366dc098c14c"
  },
  "kernelspec": {
   "display_name": "Python 3.9.7 64-bit ('Project': conda)",
   "language": "python",
   "name": "python3"
  },
  "language_info": {
   "codemirror_mode": {
    "name": "ipython",
    "version": 3
   },
   "file_extension": ".py",
   "mimetype": "text/x-python",
   "name": "python",
   "nbconvert_exporter": "python",
   "pygments_lexer": "ipython3",
   "version": "3.9.7"
  },
  "orig_nbformat": 4
 },
 "nbformat": 4,
 "nbformat_minor": 2
}
