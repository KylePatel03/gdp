{
 "cells": [
  {
   "cell_type": "code",
   "execution_count": 8,
   "metadata": {},
   "outputs": [],
   "source": [
    "import numpy as np\n",
    "import itertools\n",
    "import math"
   ]
  },
  {
   "cell_type": "code",
   "execution_count": 9,
   "metadata": {},
   "outputs": [],
   "source": [
    "class SubBlockModel:\n",
    "    def __init__(self, subblock):\n",
    "        self.subblock = subblock\n",
    "        self.M = self._init_M()\n",
    "        self.M0 =  self.M.copy()\n",
    "    \n",
    "    # Initialise probability matrix M\n",
    "    # M[i][j]: The probability of node i having value j\n",
    "    def _init_M(self):\n",
    "        M = np.full((9,9),1/9)\n",
    "        for i,x in enumerate(self.subblock.flatten()):\n",
    "            x = int(x)\n",
    "            if x==-1:\n",
    "                continue\n",
    "            M[i] = [1 if i==x else 0 for i in range(1,10)]\n",
    "        return M\n",
    "    \n",
    "    # Sample the probability distribution\n",
    "    # Returns a 1D matrix: sample[i] is the probability distribution of node i over each value\n",
    "    def sample(self):\n",
    "        sample = np.empty(9)\n",
    "        values = range(1,10)\n",
    "        for i in range(9):\n",
    "            sample[i] = np.random.choice(values,size=None,p=self.M[i])\n",
    "        return sample\n",
    "    \n",
    "    # N: Number of samples (Population Size)\n",
    "    # c: Sample Size (Half Good, Half Bad)\n",
    "    def samples(self, N,c):\n",
    "        n = math.floor(c/2)\n",
    "        samples = [self.sample() for _ in range(N)]\n",
    "        samples.sort(key=fitness,reverse=True)\n",
    "        good_samples = [ delta(sample) for sample in samples[:n]]\n",
    "        bad_samples = [ delta(sample) for sample in samples[-n:]]\n",
    "        return good_samples, bad_samples\n",
    "\n",
    "    # Update the model using good and bad samples\n",
    "    # k: Learning Rate\n",
    "    def update(self, k, delta_samples):\n",
    "        good_samples, bad_samples = delta_samples\n",
    "        self.M = self._update_good_samples(k,good_samples)\n",
    "        self.M = self._update_bad_samples(k,bad_samples)\n",
    "\n",
    "    def _update_good_samples(self, k, deltas):\n",
    "        X1 = sum(deltas)\n",
    "        X2 = np.empty((9,9))\n",
    "        for i in range(9):\n",
    "            rows_i = [ sample[i] for sample in deltas]\n",
    "            X2[i] = sum(rows_i)\n",
    "        return self.M  + (k/9) * X1 - (k/9**2)  * X2\n",
    "\n",
    "    def _update_bad_samples(self, k, deltas):\n",
    "        X1 = sum(deltas)\n",
    "        X2 = np.empty((9,9))\n",
    "        for i in range(9):\n",
    "            rows_i = [ sample[i] for sample in deltas]\n",
    "            X2[i] = sum(rows_i)\n",
    "        return self.M  - (k/9) * X1 + (k/9**2)  * X2\n",
    "\n",
    "# Sum of the number of UNIQUE values in each row and column (higher the fitness the better)\n",
    "# 3x3 Subblock =>  18\n",
    "def fitness(sample):\n",
    "    sample = sample.reshape((3,3))\n",
    "    row_fitness = 0\n",
    "    col_fitness = 0\n",
    "    for row in sample:\n",
    "        row_fitness += len(set(row).difference({-1}))\n",
    "    for col in sample.T:\n",
    "        col_fitness += len(set(col).difference({-1}))\n",
    "    return row_fitness + col_fitness\n",
    "\n",
    "# Given a 1D sample, apply delta function\n",
    "# Returns a 2D matrix: sample[i][j]=1 if the value of node i=j, otherwise 0\n",
    "def delta(sample):\n",
    "    res = np.empty((9,9))\n",
    "    for i,x in enumerate(sample):\n",
    "        x = int(x)\n",
    "        res[i] = np.full(9,0)\n",
    "        res[i][x-1] = 1\n",
    "    return res\n",
    "\n",
    "# Returns true if probability distribution of values sum to 1 for each cell\n",
    "def check_M(M):\n",
    "    return np.allclose(np.ones(9),np.sum(M,axis=1))"
   ]
  },
  {
   "cell_type": "code",
   "execution_count": 10,
   "metadata": {},
   "outputs": [],
   "source": [
    "puzzle = np.loadtxt('puzzle.txt')\n",
    "subblocks= [np.hsplit(x,3) for x in np.vsplit(puzzle,3)]\n",
    "subblocks = list(itertools.chain.from_iterable(subblocks))"
   ]
  },
  {
   "cell_type": "code",
   "execution_count": 11,
   "metadata": {},
   "outputs": [],
   "source": [
    "models = [SubBlockModel(block) for block in subblocks]\n",
    "m0 = models[0]"
   ]
  },
  {
   "cell_type": "code",
   "execution_count": 12,
   "metadata": {},
   "outputs": [],
   "source": [
    "N = 150\n",
    "c = 50\n",
    "k = 0.5\n",
    "\n",
    "delta_samples = m0.samples(N,c)\n",
    "m0.update(k, delta_samples)"
   ]
  },
  {
   "cell_type": "code",
   "execution_count": 13,
   "metadata": {},
   "outputs": [
    {
     "data": {
      "text/plain": [
       "array([[0.        , 0.        , 1.        , 0.        , 0.        ,\n",
       "        0.        , 0.        , 0.        , 0.        ],\n",
       "       [0.11111111, 0.11111111, 0.11111111, 0.11111111, 0.11111111,\n",
       "        0.11111111, 0.11111111, 0.11111111, 0.11111111],\n",
       "       [0.        , 0.        , 0.        , 0.        , 1.        ,\n",
       "        0.        , 0.        , 0.        , 0.        ],\n",
       "       [0.        , 0.        , 0.        , 1.        , 0.        ,\n",
       "        0.        , 0.        , 0.        , 0.        ],\n",
       "       [0.        , 0.        , 0.        , 0.        , 0.        ,\n",
       "        0.        , 0.        , 0.        , 1.        ],\n",
       "       [0.11111111, 0.11111111, 0.11111111, 0.11111111, 0.11111111,\n",
       "        0.11111111, 0.11111111, 0.11111111, 0.11111111],\n",
       "       [0.        , 0.        , 0.        , 0.        , 0.        ,\n",
       "        1.        , 0.        , 0.        , 0.        ],\n",
       "       [0.11111111, 0.11111111, 0.11111111, 0.11111111, 0.11111111,\n",
       "        0.11111111, 0.11111111, 0.11111111, 0.11111111],\n",
       "       [0.11111111, 0.11111111, 0.11111111, 0.11111111, 0.11111111,\n",
       "        0.11111111, 0.11111111, 0.11111111, 0.11111111]])"
      ]
     },
     "execution_count": 13,
     "metadata": {},
     "output_type": "execute_result"
    }
   ],
   "source": [
    "m0.M0"
   ]
  },
  {
   "cell_type": "code",
   "execution_count": 14,
   "metadata": {},
   "outputs": [
    {
     "data": {
      "text/plain": [
       "(array([[ 0.        ,  0.        ,  1.        ,  0.        ,  0.        ,\n",
       "          0.        ,  0.        ,  0.        ,  0.        ],\n",
       "        [ 0.16049383,  0.16049383, -0.28395062,  0.25925926, -0.43209877,\n",
       "          0.30864198,  0.40740741,  0.35802469,  0.0617284 ],\n",
       "        [ 0.        ,  0.        ,  0.        ,  0.        ,  1.        ,\n",
       "          0.        ,  0.        ,  0.        ,  0.        ],\n",
       "        [ 0.        ,  0.        ,  0.        ,  1.        ,  0.        ,\n",
       "          0.        ,  0.        ,  0.        ,  0.        ],\n",
       "        [ 0.        ,  0.        ,  0.        ,  0.        ,  0.        ,\n",
       "          0.        ,  0.        ,  0.        ,  1.        ],\n",
       "        [ 0.20987654,  0.30864198,  0.30864198, -0.03703704, -0.13580247,\n",
       "          0.20987654,  0.30864198,  0.11111111, -0.28395062],\n",
       "        [ 0.        ,  0.        ,  0.        ,  0.        ,  0.        ,\n",
       "          1.        ,  0.        ,  0.        ,  0.        ],\n",
       "        [ 0.45679012,  0.20987654,  0.11111111,  0.16049383,  0.0617284 ,\n",
       "         -0.13580247,  0.0617284 ,  0.16049383, -0.08641975],\n",
       "        [ 0.0617284 ,  0.16049383,  0.25925926,  0.20987654, -0.13580247,\n",
       "         -0.48148148,  0.45679012,  0.30864198,  0.16049383]]),\n",
       " True)"
      ]
     },
     "execution_count": 14,
     "metadata": {},
     "output_type": "execute_result"
    }
   ],
   "source": [
    "# Some probabilities are negative but sum of distributions=1\n",
    "m0.M, check_M(m0.M)"
   ]
  }
 ],
 "metadata": {
  "interpreter": {
   "hash": "5fc57f0eeeae6d9fbfccdd8c53b36a3fb85963eb035039bddb19366dc098c14c"
  },
  "kernelspec": {
   "display_name": "Python 3.9.7 64-bit ('Project': conda)",
   "language": "python",
   "name": "python3"
  },
  "language_info": {
   "codemirror_mode": {
    "name": "ipython",
    "version": 3
   },
   "file_extension": ".py",
   "mimetype": "text/x-python",
   "name": "python",
   "nbconvert_exporter": "python",
   "pygments_lexer": "ipython3",
   "version": "3.9.7"
  },
  "orig_nbformat": 4
 },
 "nbformat": 4,
 "nbformat_minor": 2
}
