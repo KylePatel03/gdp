{
 "cells": [
  {
   "cell_type": "code",
   "execution_count": 13,
   "metadata": {},
   "outputs": [],
   "source": [
    "import cma\n",
    "import numpy as np\n",
    "from self_modelling import HopfieldNetworkRC"
   ]
  },
  {
   "cell_type": "code",
   "execution_count": 14,
   "metadata": {},
   "outputs": [],
   "source": [
    "# Map continous states to {-1,1}\n",
    "def normalise_sample(x):\n",
    "    y = x.copy()\n",
    "    y = np.where(y>0,1,y)\n",
    "    y = np.where(y<=0,-1,y)\n",
    "    return y\n",
    "\n",
    "class CMAES:\n",
    "    def __init__(self, weights):\n",
    "        self.weights = weights\n",
    "        self.N = self.weights.shape[0]\n",
    "    \n",
    "    def cost(self, sample):\n",
    "        sample = normalise_sample(sample)\n",
    "        energy = -0.5 * (sample @ self.weights) @ sample.T\n",
    "        return energy.flatten()[0]\n",
    "    \n",
    "    def run(self,x,sigma,iterations):\n",
    "        options = {\n",
    "            'tolflatfitness': 100,\n",
    "            'maxiter': iterations,\n",
    "            'popsize': 50,\n",
    "            # Time in seconds\n",
    "            'timeout': '5*60*60',\n",
    "            'verbose': 3,\n",
    "        }\n",
    "        es = cma.CMAEvolutionStrategy(x, sigma,options)\n",
    "        return es.optimize(self.cost,iterations=iterations,min_iterations=iterations).result"
   ]
  },
  {
   "cell_type": "code",
   "execution_count": 15,
   "metadata": {},
   "outputs": [],
   "source": [
    "N = 100\n",
    "hopfield_model = HopfieldNetworkRC(N)"
   ]
  },
  {
   "cell_type": "code",
   "execution_count": 16,
   "metadata": {},
   "outputs": [],
   "source": [
    "cmaes_model = CMAES(hopfield_model.weights)\n",
    "x0 = np.random.choice([-1,1],size=cmaes_model.N)\n",
    "sigma0 = 1 / 3\n",
    "iterations = 100"
   ]
  },
  {
   "cell_type": "code",
   "execution_count": 17,
   "metadata": {},
   "outputs": [
    {
     "name": "stdout",
     "output_type": "stream",
     "text": [
      "(25_w,50)-aCMA-ES (mu_w=14.0,w_1=14%) in dimension 100 (seed=825501, Fri Dec 17 13:45:59 2021)\n",
      "Iterat #Fevals   function value  axis ratio  sigma  min&max std  t[m:s]\n",
      "    1     50 -1.000000000000000e+01 1.0e+00 3.16e-01  3e-01  3e-01 0:00.0\n",
      "    2    100 -6.000000000000000e+00 1.0e+00 3.03e-01  3e-01  3e-01 0:00.0\n",
      "    3    150 -1.000000000000000e+01 1.0e+00 2.94e-01  3e-01  3e-01 0:00.0\n",
      "  100   5000 -5.860000000000000e+02 2.0e+00 2.24e+00  2e+00  2e+00 0:01.3\n"
     ]
    }
   ],
   "source": [
    "result = cmaes_model.run(x0,sigma0,iterations)"
   ]
  },
  {
   "cell_type": "code",
   "execution_count": 18,
   "metadata": {},
   "outputs": [
    {
     "data": {
      "text/plain": [
       "(array([ 1.,  1., -1., -1., -1.,  1., -1., -1., -1., -1., -1.,  1.,  1.,\n",
       "        -1.,  1.,  1.,  1.,  1., -1.,  1., -1.,  1., -1.,  1.,  1.,  1.,\n",
       "         1.,  1.,  1., -1., -1., -1.,  1.,  1., -1., -1., -1.,  1.,  1.,\n",
       "        -1., -1.,  1.,  1., -1., -1., -1., -1.,  1., -1.,  1.,  1.,  1.,\n",
       "         1., -1., -1., -1.,  1.,  1.,  1.,  1.,  1., -1.,  1., -1., -1.,\n",
       "         1., -1.,  1.,  1., -1.,  1., -1.,  1.,  1., -1., -1.,  1.,  1.,\n",
       "         1.,  1., -1., -1.,  1., -1., -1.,  1., -1.,  1., -1.,  1.,  1.,\n",
       "         1.,  1.,  1.,  1.,  1.,  1., -1.,  1., -1.]),\n",
       " -590.0)"
      ]
     },
     "execution_count": 18,
     "metadata": {},
     "output_type": "execute_result"
    }
   ],
   "source": [
    "x, energy = result.xbest, result.fbest\n",
    "norm_x = normalise_sample(x)\n",
    "norm_x, energy"
   ]
  }
 ],
 "metadata": {
  "interpreter": {
   "hash": "1381b3a0be6b6d59825482806ea96f8800c5f8bef7e2ecb1aba66f28dc1f55e0"
  },
  "kernelspec": {
   "display_name": "Python 3.8.12 64-bit ('base': conda)",
   "language": "python",
   "name": "python3"
  },
  "language_info": {
   "codemirror_mode": {
    "name": "ipython",
    "version": 3
   },
   "file_extension": ".py",
   "mimetype": "text/x-python",
   "name": "python",
   "nbconvert_exporter": "python",
   "pygments_lexer": "ipython3",
   "version": "3.8.12"
  },
  "orig_nbformat": 4
 },
 "nbformat": 4,
 "nbformat_minor": 2
}
