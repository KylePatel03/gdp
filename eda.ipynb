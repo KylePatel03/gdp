{
 "cells": [
  {
   "cell_type": "code",
   "execution_count": 1,
   "metadata": {},
   "outputs": [],
   "source": [
    "import numpy as np\n",
    "from collections import Counter"
   ]
  },
  {
   "cell_type": "code",
   "execution_count": 4,
   "metadata": {},
   "outputs": [],
   "source": [
    "# Set of points (i,j) that are initially given alongside its value k\n",
    "def init_graph(puzzle):\n",
    "    graph = set()\n",
    "    for i,x in enumerate(puzzle.flatten()):\n",
    "        if x==-1:\n",
    "            continue\n",
    "        div,mod = divmod(i,9)\n",
    "        graph.add((div,mod,x))\n",
    "    return graph\n",
    "\n",
    "# p[i][j]: Probability distribution on the numbers cell ij can take\n",
    "def init_P(graph):\n",
    "    P = np.full((9,9,9),1/9)\n",
    "    for i,j,k in G:\n",
    "        P[i][j] = [1 if i==k else 0 for i in range(1,10)]\n",
    "    return P\n",
    "\n",
    "# Given a 1D collection of numbers, return the number of missing values\n",
    "def _cost(values):\n",
    "    return len(set(range(1,10)).difference(set(values)))\n",
    "\n",
    "# Sum of the number of missing values over each row, column and subblock\n",
    "def cost(puzzle):\n",
    "    block_cost = 0\n",
    "    row_cost = 0\n",
    "    col_cost = 0\n",
    "\n",
    "    x,y,z = np.hsplit(puzzle, 3)\n",
    "    (x1,x2,x3), (y1,y2,y3), (z1,z2,z3) = np.vsplit(x,3), np.vsplit(y,3), np.vsplit(z,3)\n",
    "    blocks = [x1,x2,x3,y1,y2,y3,z1,z2,z3]\n",
    "    block_cost = sum([_cost(x.flatten()) for x in blocks])\n",
    "\n",
    "    for row in puzzle:\n",
    "        row_cost += _cost(row)\n",
    "    for col in puzzle.T:\n",
    "        col_cost += _cost(col)\n",
    "    return block_cost + row_cost + col_cost\n",
    "\n",
    "# Return a sample from the probability distribution\n",
    "def sample(P):\n",
    "    sample = np.empty((9,9))\n",
    "    values = range(1,10)\n",
    "    for i in range(9):\n",
    "        for j in range(9):\n",
    "            sample[i][j] = np.random.choice(values,size=None,p=P[i][j])\n",
    "    return sample\n",
    "\n",
    "def check_P(P):\n",
    "    return np.sum(P,axis=2)"
   ]
  },
  {
   "cell_type": "code",
   "execution_count": 5,
   "metadata": {},
   "outputs": [],
   "source": [
    "# Compute the empirical probabilities (probabilites of each cell taking a value over the samples)\n",
    "def empirical_probabilities(P, samples):\n",
    "    p = np.empty((9,9,9))\n",
    "    N = len(samples)\n",
    "    for i in range(9):\n",
    "        for j in range(9):\n",
    "            numbers_ij = [sample[i][j] for sample in samples]\n",
    "            count = Counter(numbers_ij)\n",
    "            p_ij = [count[i]/N for i in range(1,10)]\n",
    "            p[i][j] = p_ij\n",
    "    return p\n",
    "\n",
    "def update_probabilities(alpha,P,empirical_probabilities):\n",
    "    return alpha * P + (1-alpha) * empirical_probabilities"
   ]
  },
  {
   "cell_type": "code",
   "execution_count": 6,
   "metadata": {},
   "outputs": [],
   "source": [
    "# Stopping test: If the smallest probability of a cell taking a value is almost 1, a near optimal solution is found\n",
    "# Beta: Value close to 1\n",
    "def f(beta,P):\n",
    "    return np.amin(np.amax(P,axis=2)) > beta\n",
    "\n",
    "# N: Maximum number of iterations\n",
    "# Q: Number of samples to take\n",
    "# Q1: Number of samples used to update probabilities, Q1<=Q\n",
    "# alpha: Smoothing parameter in range [0,1]\n",
    "# beta: Value close to 1\n",
    "def main(graph, N , Q, Q1, alpha, beta):\n",
    "    P0 = init_P(graph)\n",
    "    P = P0.copy()\n",
    "    for _ in range(N):\n",
    "        if f(beta,P):\n",
    "            break\n",
    "        samples = [sample(P) for _ in range(Q)]\n",
    "        samples.sort(key=cost)\n",
    "        best_samples = samples[:Q1]\n",
    "        p = empirical_probabilities(P, best_samples)\n",
    "        P = update_probabilities(alpha,P, p)\n",
    "    return P0, P"
   ]
  },
  {
   "cell_type": "code",
   "execution_count": 7,
   "metadata": {},
   "outputs": [],
   "source": [
    "puzzle = np.loadtxt('puzzle.txt')\n",
    "G = init_graph(puzzle)"
   ]
  },
  {
   "cell_type": "code",
   "execution_count": 8,
   "metadata": {},
   "outputs": [],
   "source": [
    "N = 300\n",
    "Q = 100\n",
    "Q1 = 10\n",
    "alpha = 0.8\n",
    "epsilon = 0.1\n",
    "beta = 1 - epsilon\n",
    "\n",
    "P0, P1 = main(G,N,Q,Q1,alpha,beta)\n",
    "initial_solution = sample(P0)\n",
    "final_solution = sample(P1)"
   ]
  },
  {
   "cell_type": "code",
   "execution_count": 9,
   "metadata": {},
   "outputs": [
    {
     "data": {
      "text/plain": [
       "(62, 0)"
      ]
     },
     "execution_count": 9,
     "metadata": {},
     "output_type": "execute_result"
    }
   ],
   "source": [
    "cost(initial_solution), cost(final_solution)"
   ]
  },
  {
   "cell_type": "code",
   "execution_count": null,
   "metadata": {},
   "outputs": [],
   "source": [
    "final_solution"
   ]
  }
 ],
 "metadata": {
  "interpreter": {
   "hash": "5fc57f0eeeae6d9fbfccdd8c53b36a3fb85963eb035039bddb19366dc098c14c"
  },
  "kernelspec": {
   "display_name": "Python 3.9.7 64-bit ('Project': conda)",
   "language": "python",
   "name": "python3"
  },
  "language_info": {
   "codemirror_mode": {
    "name": "ipython",
    "version": 3
   },
   "file_extension": ".py",
   "mimetype": "text/x-python",
   "name": "python",
   "nbconvert_exporter": "python",
   "pygments_lexer": "ipython3",
   "version": "3.9.7"
  },
  "orig_nbformat": 4
 },
 "nbformat": 4,
 "nbformat_minor": 2
}
