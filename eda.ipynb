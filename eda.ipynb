{
 "cells": [
  {
   "cell_type": "code",
   "execution_count": 1,
   "metadata": {},
   "outputs": [],
   "source": [
    "import numpy as np\n",
    "from collections import Counter\n",
    "from itertools import chain\n",
    "from math import floor"
   ]
  },
  {
   "cell_type": "code",
   "execution_count": 2,
   "metadata": {},
   "outputs": [],
   "source": [
    "# Given a puzzle return a list of 3x3 subblocks, in order from left to right, top to bottom\n",
    "def init_subblocks(puzzle):\n",
    "    subblocks = [ np.hsplit(x,3) for x in np.vsplit(puzzle,3)]\n",
    "    subblocks = list(chain.from_iterable(subblocks))\n",
    "    return subblocks\n",
    "\n",
    "# Given a cell (i,j) return the subblock that it resides in\n",
    "def get_subblock(subblocks,i,j):\n",
    "    x,y = floor(i/3), floor(j/3)\n",
    "    i = 3 * x + y\n",
    "    return subblocks[i]# (i,j): Coordinates of a blank value\n",
    "\n",
    "# Given a NON blank cell (i,j), return the set of all the dependent values (values that puzzle[i][j] CANNOT be)\n",
    "def get_dependent_values(subblocks,i,j):\n",
    "    subblock = set(get_subblock(subblocks,i,j).flatten())\n",
    "    row = set(puzzle[i,:])\n",
    "    col = set(puzzle[:,j])\n",
    "    # Set union of subblock, row and column values removing blanks  and the value of the current cell\n",
    "    return subblock.union(row,col).difference({-1, puzzle[i][j]})\n",
    "\n",
    "# Given a 1D collection of numbers, return the number of missing values\n",
    "def _cost(values):\n",
    "    return len(set(range(1,10)).difference(set(values)))\n",
    "\n",
    "# Sum of the number of missing values over each row, column and subblock\n",
    "def cost(puzzle):\n",
    "    block_cost = 0\n",
    "    row_cost = 0\n",
    "    col_cost = 0\n",
    "\n",
    "    x,y,z = np.hsplit(puzzle, 3)\n",
    "    (x1,x2,x3), (y1,y2,y3), (z1,z2,z3) = np.vsplit(x,3), np.vsplit(y,3), np.vsplit(z,3)\n",
    "    blocks = [x1,x2,x3,y1,y2,y3,z1,z2,z3]\n",
    "    block_cost = sum([_cost(x.flatten()) for x in blocks])\n",
    "\n",
    "    for row in puzzle:\n",
    "        row_cost += _cost(row)\n",
    "    for col in puzzle.T:\n",
    "        col_cost += _cost(col)\n",
    "    return block_cost + row_cost + col_cost\n",
    "\n",
    "# Compute the empirical probabilities (probabilites of each cell taking a value over the samples)\n",
    "def empirical_probabilities(samples):\n",
    "    p = np.empty((9,9,9))\n",
    "    N = len(samples)\n",
    "    for i in range(9):\n",
    "        for j in range(9):\n",
    "            numbers_ij = [sample[i][j] for sample in samples]\n",
    "            count = Counter(numbers_ij)\n",
    "            p[i][j] = [count[i]/N for i in range(1,10)]\n",
    "    return p\n",
    "\n",
    "# Sample a probability distribution\n",
    "# sample[i][j]: The value of cell (i,j)\n",
    "def sample(P):\n",
    "        sample = np.empty((9,9),dtype=int)\n",
    "        # sample = np.empty((9,9))\n",
    "        values = range(1,10)\n",
    "        for i in range(9):\n",
    "            for j in range(9):\n",
    "                sample[i][j] = np.random.choice(values,size=None,p=P[i][j])\n",
    "        return sample\n",
    "\n",
    "# Verify that distribution sums to one for each cell and that probabilties are between 0 and 1\n",
    "def check_P(P):\n",
    "    sum_to_one = np.allclose(np.sum(P,axis=2), np.ones(9))\n",
    "    valid_range = not(np.any(model.P < 0)) and not(np.any(model.P > 1))\n",
    "    return sum_to_one and valid_range"
   ]
  },
  {
   "cell_type": "code",
   "execution_count": 3,
   "metadata": {},
   "outputs": [],
   "source": [
    "class Model:\n",
    "    \n",
    "    def __init__(self, puzzle):\n",
    "        self.puzzle = puzzle\n",
    "        self.subblocks = init_subblocks(self.puzzle)\n",
    "        self.P = self._init_P()\n",
    "        self.P0 = self.P.copy() \n",
    "    \n",
    "    # Initialise probability matrix\n",
    "    # P[i][j][k]: Probability of cell (i,j) taking the value k\n",
    "    def _init_P(self):\n",
    "        P = np.empty((9,9,9))\n",
    "        for i in range(9):\n",
    "            for j in range(9):\n",
    "                x = int(self.puzzle[i][j])\n",
    "                if x != -1:\n",
    "                    # If the cell has a value k that is already given, fix its probability to 1\n",
    "                    P[i][j] = [1 if i==x else 0 for i in range(1,10)]\n",
    "                else:\n",
    "                    dependent_values = get_dependent_values(self.subblocks,i,j)\n",
    "                    n = 9 - len(dependent_values)\n",
    "                    for k in range(9):\n",
    "                        v = k + 1\n",
    "                        P[i][j][k] = 0 if v in dependent_values else 1/n\n",
    "        return P\n",
    "   \n",
    "    def update(self,alpha,empirical_probabilities):\n",
    "        self.P = alpha * self.P + (1-alpha) * empirical_probabilities"
   ]
  },
  {
   "cell_type": "code",
   "execution_count": 4,
   "metadata": {},
   "outputs": [],
   "source": [
    "# Stopping Condition\n",
    "def f(beta,P):\n",
    "    return np.amin(np.amax(P,axis=2)) > beta\n",
    "\n",
    "def main(model, N, Q, Q1, alpha, beta):\n",
    "    print(f\"Updating model over {N} iterations\")\n",
    "    print(f\"Population Size={Q},Sample Size={Q1},alpha={alpha},beta={beta}\")\n",
    "    for n in range(N):\n",
    "        if f(beta,model.P):\n",
    "            print(f\"Stopping condition met at iteration {n}\")\n",
    "            break\n",
    "        samples = [ sample(model.P) for _ in range(Q)]\n",
    "        samples.sort(key=cost)\n",
    "        best_samples = samples[:Q1]\n",
    "        model.update(alpha,empirical_probabilities(best_samples))\n",
    "\n",
    "\n",
    "# initial: Initial puzzle with -1 for values that are NOT given\n",
    "# output: Learned answer\n",
    "# solution: Solution to initial\n",
    "# Print the number of givens that stay the same & number of correct matches for non-givens\n",
    "def summary_report(initial, output, solution):\n",
    "    number_blanks = np.count_nonzero(puzzle == -1)\n",
    "    number_givens = 81 - number_blanks\n",
    "    number_givens_same = 0 # Number of givens that stay the same (ideally=number_givens)\n",
    "    number_correct_guesses = 0 # Number of correct guesses (ideally=number_blanks)\n",
    "    incorrect_cells = np.argwhere(output != solution) # Indices of cells that do not match\n",
    "    for i in range(9):\n",
    "        for j in range(9):\n",
    "            if initial[i][j] != -1:\n",
    "                if output[i][j] == initial[i][j]:\n",
    "                    number_givens_same += 1\n",
    "            else:\n",
    "                if output[i][j] == solution[i][j]:\n",
    "                    number_correct_guesses += 1\n",
    "    print(f\"# Blanks = {number_blanks}, # Givens = {number_givens}\")\n",
    "    print(f\"Correct Givens: {number_givens_same} / {number_givens}\")\n",
    "    print(f\"Correct Guesses: {number_correct_guesses} / {number_blanks}\")\n",
    "    print(\"Indices of cells that are incorrect:\",incorrect_cells)\n"
   ]
  },
  {
   "cell_type": "code",
   "execution_count": 5,
   "metadata": {},
   "outputs": [],
   "source": [
    "# Parse a file containg an unsolved sudoko puzzle and its solution, separated by newline(s)\n",
    "def parse_file(file):\n",
    "    with open(file) as f:\n",
    "        n = f.readlines().index('\\n') + 1\n",
    "    puzzle = np.loadtxt(file,max_rows=n,dtype=int)\n",
    "    solution = np.loadtxt(file,skiprows=n,dtype=int)\n",
    "    return puzzle, solution"
   ]
  },
  {
   "cell_type": "code",
   "execution_count": 6,
   "metadata": {},
   "outputs": [
    {
     "name": "stdout",
     "output_type": "stream",
     "text": [
      "Updating model over 300 iterations\n",
      "Population Size=100,Sample Size=10,alpha=0.8,beta=0.9\n",
      "Stopping condition met at iteration 19\n"
     ]
    }
   ],
   "source": [
    "puzzle, solution = parse_file('puzzles/easy.txt')\n",
    "model = Model(puzzle)\n",
    "\n",
    "# Parameters\n",
    "N = 300\n",
    "Q = 100\n",
    "Q1 = 10\n",
    "alpha = 0.8\n",
    "epsilon = 0.1\n",
    "beta = 1 - epsilon\n",
    "\n",
    "main(model, N, Q, Q1, alpha, beta)"
   ]
  },
  {
   "cell_type": "code",
   "execution_count": 7,
   "metadata": {},
   "outputs": [
    {
     "data": {
      "text/plain": [
       "(21, 3)"
      ]
     },
     "execution_count": 7,
     "metadata": {},
     "output_type": "execute_result"
    }
   ],
   "source": [
    "initial_solution = sample(model.P0)\n",
    "final_solution = sample(model.P)\n",
    "\n",
    "cost(initial_solution), cost(final_solution)"
   ]
  },
  {
   "cell_type": "code",
   "execution_count": 8,
   "metadata": {},
   "outputs": [
    {
     "data": {
      "text/plain": [
       "(array([[3, 1, 5, 4, 8, 2, 9, 6, 7],\n",
       "        [4, 9, 2, 7, 6, 5, 1, 3, 8],\n",
       "        [6, 7, 8, 1, 9, 3, 2, 4, 5],\n",
       "        [7, 2, 3, 9, 1, 6, 5, 8, 4],\n",
       "        [9, 6, 4, 2, 5, 8, 7, 1, 3],\n",
       "        [5, 8, 1, 3, 7, 4, 6, 9, 2],\n",
       "        [8, 5, 7, 6, 3, 1, 4, 2, 9],\n",
       "        [2, 3, 8, 5, 4, 9, 8, 7, 1],\n",
       "        [1, 4, 9, 8, 2, 7, 3, 5, 6]]),\n",
       " array([[3, 1, 5, 4, 8, 2, 9, 6, 7],\n",
       "        [4, 9, 2, 7, 6, 5, 1, 3, 8],\n",
       "        [6, 7, 8, 1, 9, 3, 2, 4, 5],\n",
       "        [7, 2, 3, 9, 1, 6, 5, 8, 4],\n",
       "        [9, 6, 4, 2, 5, 8, 7, 1, 3],\n",
       "        [5, 8, 1, 3, 7, 4, 6, 9, 2],\n",
       "        [8, 5, 7, 6, 3, 1, 4, 2, 9],\n",
       "        [2, 3, 6, 5, 4, 9, 8, 7, 1],\n",
       "        [1, 4, 9, 8, 2, 7, 3, 5, 6]]))"
      ]
     },
     "execution_count": 8,
     "metadata": {},
     "output_type": "execute_result"
    }
   ],
   "source": [
    "final_solution, solution"
   ]
  },
  {
   "cell_type": "code",
   "execution_count": 9,
   "metadata": {},
   "outputs": [
    {
     "name": "stdout",
     "output_type": "stream",
     "text": [
      "# Blanks = 33, # Givens = 48\n",
      "Correct Givens: 48 / 48\n",
      "Correct Guesses: 32 / 33\n",
      "Indices of cells that are incorrect: [[7 2]]\n"
     ]
    }
   ],
   "source": [
    "summary_report(model.puzzle, final_solution, solution)"
   ]
  }
 ],
 "metadata": {
  "interpreter": {
   "hash": "5fc57f0eeeae6d9fbfccdd8c53b36a3fb85963eb035039bddb19366dc098c14c"
  },
  "kernelspec": {
   "display_name": "Python 3.9.7 64-bit ('Project': conda)",
   "language": "python",
   "name": "python3"
  },
  "language_info": {
   "codemirror_mode": {
    "name": "ipython",
    "version": 3
   },
   "file_extension": ".py",
   "mimetype": "text/x-python",
   "name": "python",
   "nbconvert_exporter": "python",
   "pygments_lexer": "ipython3",
   "version": "3.9.7"
  },
  "orig_nbformat": 4
 },
 "nbformat": 4,
 "nbformat_minor": 2
}
